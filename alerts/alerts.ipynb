{
  "cells": [
    {
      "cell_type": "raw",
      "metadata": {},
      "source": [
        "---\n",
        "title: \"Standalone Report\"\n",
        "format: html\n",
        "metadata-files:\n",
        "  - _variables.yml\n",
        "---"
      ],
      "id": "baca343b"
    },
    {
      "cell_type": "markdown",
      "metadata": {},
      "source": [
        "# Quarto shortcode\n",
        "\n",
        "Version {{< meta version >}} is a minor upgrade.\n",
        "\n",
        "\n",
        "{{< meta title >}}\n",
        "\n",
        "\n",
        "{{< callout-test >}}\n",
        "\n",
        "\n",
        "```{lua}\n",
        "\n",
        "callout-alert(\"alert1\")\n",
        "\n",
        "```"
      ],
      "id": "038c5d86"
    }
  ],
  "metadata": {
    "kernelspec": {
      "display_name": "Python 3",
      "language": "python",
      "name": "python3"
    }
  },
  "nbformat": 4,
  "nbformat_minor": 5
}